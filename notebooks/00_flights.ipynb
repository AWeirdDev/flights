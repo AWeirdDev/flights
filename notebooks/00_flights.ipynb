{
 "cells": [
  {
   "cell_type": "code",
   "execution_count": 3,
   "metadata": {},
   "outputs": [
    {
     "name": "stdout",
     "output_type": "stream",
     "text": [
      "\n",
      "The price is currently typical\n"
     ]
    },
    {
     "data": {
      "text/markdown": [
       "| Date | Airline | Price | Stops | Duration |\n",
       "|:-----|:--------|------:|------:|:---------|\n",
       "| Feb 3 | Turkish Airlines | €722 | 1 | 15 hr 35 min |\n",
       "| Feb 3 | Turkish Airlines | €722 | 1 | 15 hr 35 min |\n",
       "| Feb 3 | Finnair, Qatar Airways | €727 | 2 | 25 hr 50 min |\n",
       "| Feb 3 | Finnair, Qatar Airways | €727 | 2 | 25 hr 50 min |\n",
       "| Feb 3 | Finnair, Qatar Airways | €727 | 2 | 29 hr 25 min |\n",
       "| Feb 3 | Finnair, Qatar Airways | €727 | 2 | 29 hr 25 min |\n",
       "| Feb 3 | Finnair, Qatar Airways | €783 | 2 | 19 hr 30 min |\n",
       "| Feb 3 | Finnair, Qatar Airways | €783 | 2 | 19 hr 30 min |\n",
       "| Feb 3 | Finnair, Qatar Airways | €788 | 2 | 23 hr 5 min |\n",
       "| Feb 3 | Finnair, Qatar Airways | €788 | 2 | 23 hr 5 min |\n",
       "| Feb 3 | Turkish Airlines | €817 | 1 | 23 hr 40 min |\n",
       "| Feb 3 | Turkish Airlines | €817 | 1 | 23 hr 40 min |\n",
       "| Feb 3 | Finnair | €843 | 1 | 15 hr 5 min |\n",
       "| Feb 3 | Finnair | €843 | 1 | 15 hr 5 min |\n",
       "| Feb 3 | Finnair | €843 | 1 | 23 hr |\n",
       "| Feb 3 | Finnair | €843 | 1 | 23 hr |\n",
       "| Feb 3 | Finnair | €843 | 1 | 26 hr 35 min |\n",
       "| Feb 3 | Finnair | €843 | 1 | 26 hr 35 min |\n",
       "| Feb 3 | Turkish Airlines | €872 | 1 | 14 hr 50 min |\n",
       "| Feb 3 | Turkish Airlines | €872 | 1 | 14 hr 50 min |\n",
       "| Feb 3 | Finnair | €878 | 1 | 18 hr 10 min |\n",
       "| Feb 3 | Finnair | €878 | 1 | 18 hr 10 min |\n",
       "| Feb 3 | Scandinavian Airlines, Qatar Airways | €942 | 2 | 20 hr 20 min |\n",
       "| Feb 3 | Scandinavian Airlines, Qatar Airways | €942 | 2 | 20 hr 20 min |\n",
       "| Feb 3 | Scandinavian Airlines, Qatar Airways | €942 | 2 | 21 hr 45 min |\n",
       "| Feb 3 | Scandinavian Airlines, Qatar Airways | €942 | 2 | 21 hr 45 min |\n",
       "| Feb 3 | Lufthansa | €1024 | 1 | 19 hr 40 min |\n",
       "| Feb 3 | Lufthansa, Singapore Airlines | €1077 | 1 | 19 hr 50 min |\n",
       "| Feb 3 | Lufthansa, Singapore Airlines | €1077 | 1 | 19 hr 50 min |\n",
       "| Feb 3 | LOT, Lufthansa | €1078 | 2 | 20 hr 10 min |\n",
       "| Feb 3 | LOT, Lufthansa | €1078 | 2 | 20 hr 10 min |\n",
       "| Feb 3 | Lufthansa | €1089 | 1 | 28 hr 25 min |\n",
       "| Feb 3 | Lufthansa | €1089 | 1 | 28 hr 25 min |\n",
       "| Feb 3 | Air Baltic, Lufthansa | €1109 | 2 | 17 hr 35 min |\n",
       "| Feb 3 | Air Baltic, Lufthansa | €1109 | 2 | 17 hr 35 min |\n",
       "| Feb 3 | Lufthansa | €1110 | 2 | 19 hr 55 min |\n",
       "| Feb 3 | Lufthansa | €1110 | 2 | 19 hr 55 min |\n",
       "| Feb 3 | Lufthansa | €1110 | 2 | 19 hr 55 min |\n",
       "| Feb 3 | Lufthansa | €1110 | 2 | 19 hr 55 min |\n",
       "| Feb 3 | Lufthansa | €1110 | 2 | 19 hr 55 min |\n",
       "| Feb 3 | Lufthansa | €1110 | 2 | 19 hr 55 min |\n",
       "| Feb 3 | Finnair, Cathay Pacific | €1119 | 2 | 21 hr 5 min |\n",
       "| Feb 3 | Finnair, Cathay Pacific | €1119 | 2 | 21 hr 5 min |\n",
       "| Feb 3 | Finnair, Cathay Pacific | €1119 | 2 | 24 hr 10 min |\n",
       "| Feb 3 | Finnair, Cathay Pacific | €1119 | 2 | 24 hr 10 min |\n",
       "| Feb 3 | Finnair, Cathay Pacific | €1119 | 2 | 29 hr |\n",
       "| Feb 3 | Finnair, Cathay Pacific | €1119 | 2 | 29 hr |\n",
       "| Feb 3 | Finnair, Cathay Pacific | €1133 | 2 | 26 hr 20 min |\n",
       "| Feb 3 | Finnair, Cathay Pacific | €1133 | 2 | 26 hr 20 min |\n",
       "| Feb 3 | Air Baltic, Lufthansa | €1177 | 1 | 17 hr 50 min |\n",
       "| Feb 3 | Air Baltic, Lufthansa | €1177 | 1 | 17 hr 50 min |\n",
       "| Feb 3 | LOT, SWISS | €1178 | 2 | 21 hr 15 min |\n",
       "| Feb 3 | LOT, SWISS | €1178 | 2 | 21 hr 15 min |\n",
       "| Feb 3 | LOT, SWISS | €1178 | 2 | 25 hr 50 min |\n",
       "| Feb 3 | LOT, SWISS | €1178 | 2 | 25 hr 50 min |\n",
       "| Feb 3 | LOT, Lufthansa, Singapore Airlines | €1181 | 2 | 20 hr 20 min |\n",
       "| Feb 3 | LOT, Lufthansa, Singapore Airlines | €1181 | 2 | 20 hr 20 min |\n",
       "| Feb 3 | Air Baltic, Lufthansa, Singapore Airlines | €1192 | 2 | 17 hr 45 min |\n",
       "| Feb 3 | Air Baltic, Lufthansa, Singapore Airlines | €1192 | 2 | 17 hr 45 min |\n",
       "| Feb 3 | Air Baltic, Air France | €1200 | 1 | 19 hr 35 min |\n",
       "| Feb 3 | Air Baltic, Air France | €1200 | 1 | 19 hr 35 min |\n",
       "| Feb 3 | LOT, Lufthansa | €1627 | 2 | 20 hr 10 min |\n",
       "| Feb 3 | LOT, Lufthansa | €1627 | 2 | 20 hr 10 min |\n",
       "| Feb 3 | Scandinavian Airlines, KLM | €1741 | 2 | 18 hr 30 min |\n",
       "| Feb 3 | Scandinavian Airlines, KLM | €1741 | 2 | 18 hr 30 min |"
      ],
      "text/plain": [
       "<IPython.core.display.Markdown object>"
      ]
     },
     "metadata": {},
     "output_type": "display_data"
    }
   ],
   "source": [
    "from fast_flights import FlightData, Passengers, create_filter, get_flights\n",
    "\n",
    "# Create a new filter\n",
    "filter = create_filter(\n",
    "    flight_data=[\n",
    "        # Include more if it's not a one-way trip\n",
    "        FlightData(\n",
    "            date=\"2025-02-03\",  # Date of departure\n",
    "            from_airport=\"VNO\",\n",
    "            to_airport=\"SIN\",\n",
    "        ),\n",
    "        FlightData(\n",
    "            date=\"2025-02-14\",  # Date of departure\n",
    "            from_airport=\"SIN\",\n",
    "            to_airport=\"VNO\",\n",
    "        ),\n",
    "    ],\n",
    "    trip=\"round-trip\",  # Trip (round-trip, one-way)\n",
    "    seat=\"economy\",  # Seat (economy, premium-economy, business or first)\n",
    "    passengers=Passengers(adults=1, children=0, infants_in_seat=0, infants_on_lap=0),\n",
    "    max_stops=None,  # or specify number\n",
    ")\n",
    "\n",
    "# Get flights with a filter\n",
    "result = get_flights(filter, inject_eu_cookies=True)\n",
    "\n",
    "\n",
    "# The price is currently... low/typical/high\n",
    "print(\"\\nThe price is currently\", result.current_price)\n",
    "\n",
    "from IPython.display import Markdown\n",
    "\n",
    "display(Markdown(result.table))\n"
   ]
  },
  {
   "cell_type": "code",
   "execution_count": null,
   "metadata": {},
   "outputs": [],
   "source": []
  },
  {
   "cell_type": "code",
   "execution_count": 2,
   "metadata": {},
   "outputs": [
    {
     "data": {
      "text/markdown": [
       "| Date | Airline | Price | Stops | Duration |\n",
       "|:-----|:--------|------:|------:|:---------|\n",
       "| Feb 3 | Finnair, Qatar Airways | €370 | 2 | 25 hr 50 min |\n",
       "| Feb 3 | Finnair, Qatar Airways | €370 | 2 | 25 hr 50 min |\n",
       "| Feb 3 | Finnair, Qatar Airways | €370 | 2 | 29 hr 25 min |\n",
       "| Feb 3 | Finnair, Qatar Airways | €370 | 2 | 29 hr 25 min |\n",
       "| Feb 3 | Scandinavian Airlines, Qatar Airways | €379 | 2 | 28 hr 5 min |\n",
       "| Feb 3 | Scandinavian Airlines, Qatar Airways | €379 | 2 | 28 hr 5 min |\n",
       "| Feb 3 | Scandinavian Airlines, Qatar Airways | €379 | 2 | 32 hr 50 min |\n",
       "| Feb 3 | Scandinavian Airlines, Qatar Airways | €379 | 2 | 32 hr 50 min |\n",
       "| Feb 3 | Finnair, Qatar Airways | €400 | 2 | 23 hr 5 min |\n",
       "| Feb 3 | Finnair, Qatar Airways | €400 | 2 | 23 hr 5 min |\n",
       "| Feb 3 | Finnair, Qatar Airways | €410 | 2 | 19 hr 30 min |\n",
       "| Feb 3 | Finnair, Qatar Airways | €410 | 2 | 19 hr 30 min |\n",
       "| Feb 3 | Scandinavian Airlines, Qatar Airways | €421 | 2 | 32 hr 50 min |\n",
       "| Feb 3 | Scandinavian Airlines, Qatar Airways | €421 | 2 | 32 hr 50 min |\n",
       "| Feb 3 | Finnair, Qatar Airways | €456 | 2 | 35 hr 35 min |\n",
       "| Feb 3 | Finnair, Qatar Airways | €456 | 2 | 35 hr 35 min |\n",
       "| Feb 3 | Finnair, Qatar Airways | €458 | 2 | 37 hr 20 min |\n",
       "| Feb 3 | Finnair, Qatar Airways | €458 | 2 | 37 hr 20 min |\n",
       "| Feb 3 | Scandinavian Airlines, Qatar Airways | €465 | 2 | 35 hr |\n",
       "| Feb 3 | Scandinavian Airlines, Qatar Airways | €465 | 2 | 35 hr |\n",
       "| Feb 3 | Scandinavian Airlines, Etihad | €495 | 2 | 21 hr 10 min |\n",
       "| Feb 3 | Scandinavian Airlines, Etihad | €495 | 2 | 21 hr 10 min |\n",
       "| Feb 3 | Finnair | €503 | 1 | 15 hr 5 min |\n",
       "| Feb 3 | Finnair | €503 | 1 | 15 hr 5 min |\n",
       "| Feb 3 | Finnair | €503 | 1 | 18 hr 10 min |\n",
       "| Feb 3 | Finnair | €503 | 1 | 18 hr 10 min |\n",
       "| Feb 3 | Finnair | €503 | 1 | 23 hr |\n",
       "| Feb 3 | Finnair | €503 | 1 | 23 hr |\n",
       "| Feb 3 | Finnair | €503 | 1 | 26 hr 35 min |\n",
       "| Feb 3 | Finnair | €503 | 1 | 26 hr 35 min |\n",
       "| Feb 3 | Lufthansa, Etihad | €551 | 2 | 21 hr 10 min |\n",
       "| Feb 3 | Lufthansa, Etihad | €551 | 2 | 21 hr 10 min |\n",
       "| Feb 3 | Finnair | €567 | 1 | 39 hr 5 min |\n",
       "| Feb 3 | Finnair | €567 | 1 | 39 hr 5 min |\n",
       "| Feb 3 | Scandinavian Airlines, Qatar Airways | €633 | 2 | 20 hr 20 min |\n",
       "| Feb 3 | Scandinavian Airlines, Qatar Airways | €633 | 2 | 20 hr 20 min |\n",
       "| Feb 3 | Turkish Airlines | €636 | 1 | 14 hr 50 min |\n",
       "| Feb 3 | Turkish Airlines | €636 | 1 | 15 hr 35 min |\n",
       "| Feb 3 | Turkish Airlines | €636 | 1 | 15 hr 35 min |\n",
       "| Feb 3 | Turkish Airlines | €636 | 1 | 23 hr 40 min |\n",
       "| Feb 3 | Turkish Airlines | €636 | 1 | 23 hr 40 min |\n",
       "| Feb 3 | Air Baltic, Air France | €686 | 1 | 19 hr 35 min |\n",
       "| Feb 3 | Air Baltic, Air France | €686 | 1 | 19 hr 35 min |\n",
       "| Feb 3 | Air Baltic, Emirates | €689 | 2 | 18 hr 20 min |\n",
       "| Feb 3 | Air Baltic, Emirates | €689 | 2 | 18 hr 20 min |\n",
       "| Feb 3 | Lufthansa | €714 | 1 | 19 hr 40 min |\n",
       "| Feb 3 | Lufthansa | €714 | 1 | 19 hr 40 min |\n",
       "| Feb 3 | Lufthansa, Singapore Airlines | €793 | 1 | 19 hr 50 min |\n",
       "| Feb 3 | Lufthansa, Singapore Airlines | €793 | 1 | 19 hr 50 min |\n",
       "| Feb 3 | Air Baltic, Lufthansa | €825 | 2 | 17 hr 35 min |\n",
       "| Feb 3 | Air Baltic, Lufthansa | €825 | 2 | 17 hr 35 min |"
      ],
      "text/plain": [
       "<IPython.core.display.Markdown object>"
      ]
     },
     "metadata": {},
     "output_type": "display_data"
    }
   ],
   "source": [
    "\n"
   ]
  },
  {
   "cell_type": "code",
   "execution_count": null,
   "metadata": {},
   "outputs": [],
   "source": []
  }
 ],
 "metadata": {
  "kernelspec": {
   "display_name": ".venv",
   "language": "python",
   "name": "python3"
  },
  "language_info": {
   "codemirror_mode": {
    "name": "ipython",
    "version": 3
   },
   "file_extension": ".py",
   "mimetype": "text/x-python",
   "name": "python",
   "nbconvert_exporter": "python",
   "pygments_lexer": "ipython3",
   "version": "3.12.7"
  }
 },
 "nbformat": 4,
 "nbformat_minor": 2
}
